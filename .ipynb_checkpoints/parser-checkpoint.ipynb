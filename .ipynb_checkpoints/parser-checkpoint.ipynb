{
 "cells": [
  {
   "cell_type": "code",
   "execution_count": 7,
   "metadata": {
    "collapsed": true
   },
   "outputs": [],
   "source": [
    "import numpy as np\n",
    "import pandas as pd\n",
    "import matplotlib.pyplot as plt\n",
    "import re\n",
    "from scipy.optimize import curve_fit"
   ]
  },
  {
   "cell_type": "code",
   "execution_count": 411,
   "metadata": {},
   "outputs": [
    {
     "data": {
      "text/plain": [
       "'091314-5118.0'"
      ]
     },
     "execution_count": 411,
     "metadata": {},
     "output_type": "execute_result"
    }
   ],
   "source": [
    "listado = open(\"ejemplos/lista.txt\",\"r\")\n",
    "files = listado.readlines()\n",
    "listado.close()\n",
    "files[7].strip(\"\\n\")"
   ]
  },
  {
   "cell_type": "code",
   "execution_count": 413,
   "metadata": {},
   "outputs": [],
   "source": [
    "archivo = open(\"ejemplos/\"+files[7].strip(\"\\n\"),\"r\")"
   ]
  },
  {
   "cell_type": "code",
   "execution_count": 414,
   "metadata": {
    "collapsed": true
   },
   "outputs": [],
   "source": [
    "text = archivo.readlines()\n",
    "archivo.close()"
   ]
  },
  {
   "cell_type": "code",
   "execution_count": 415,
   "metadata": {
    "collapsed": true,
    "scrolled": false
   },
   "outputs": [],
   "source": [
    "def cut(c):\n",
    "    flag = True\n",
    "    data = []\n",
    "    head = []\n",
    "    patron = re.compile(\"\\s+\")\n",
    "    for i in c:\n",
    "        if flag == True:\n",
    "            head.append(patron.split(i))\n",
    "            flag = False\n",
    "        else:\n",
    "            data.append(patron.split(i))\n",
    "    return np.array(data),head"
   ]
  },
  {
   "cell_type": "code",
   "execution_count": 416,
   "metadata": {
    "collapsed": true
   },
   "outputs": [],
   "source": [
    "def parser(data):\n",
    "    c = []\n",
    "    alpha = []\n",
    "    gamma = []\n",
    "    flag = 0\n",
    "    for i in range(len(data)):\n",
    "        head = re.findall(\"\\A#\\s+(.+)\",data[i])\n",
    "        new_line = re.findall(\"\\A   (.+)\",data[i]) \n",
    "        ra = re.findall(\"\\#ra=\\s+(.+)\",data[i])\n",
    "        dec = re.findall(\"\\#dec=\\s+(.+)\",data[i])\n",
    "        #ndataset = re.findall(\"\\#dataset=(.+)\",linea)\n",
    "        if ra:\n",
    "            ra_aux = ra\n",
    "        if dec:\n",
    "            dec_aux = dec\n",
    "        if head:\n",
    "            [c.append(j) for j in head]\n",
    "        if new_line:\n",
    "            [c.append(k) for k in new_line]\n",
    "            alpha.append(ra_aux)\n",
    "            gamma.append(dec_aux)\n",
    "            try:\n",
    "                next_line = re.findall(\"\\A   (.+)\",data[i+1])\n",
    "                if not next_line:\n",
    "                    reg, col= cut(c)\n",
    "                    if flag == 0:\n",
    "                        #df = pd.DataFrame(cc[1:][:],columns=cc[0])\n",
    "                        df = pd.DataFrame(reg,columns=col)\n",
    "                        df[\"RA\"] = np.array(alpha)\n",
    "                        df[\"DEC\"] = np.array(gamma)\n",
    "                        c = []\n",
    "                        alpha = []\n",
    "                        gamma = []\n",
    "                        flag += 1                    \n",
    "                    else:\n",
    "                        #df_aux = pd.DataFrame(cc[1:][:],columns=cc[0])\n",
    "                        df_aux = pd.DataFrame(reg,columns=col)\n",
    "                        df_aux[\"RA\"] = np.array(alpha)\n",
    "                        df_aux[\"DEC\"] = np.array(gamma)\n",
    "                        df = pd.concat([df,df_aux],ignore_index=True)\n",
    "                        c = []\n",
    "                        alpha = []\n",
    "                        gamma = []\n",
    "            except:\n",
    "                reg, col = cut(c)\n",
    "                #df_aux = pd.DataFrame(cc[1:][:],columns=cc[0])\n",
    "                df_aux = pd.DataFrame(reg,columns=col)\n",
    "                df_aux[\"RA\"] = np.array(alpha)\n",
    "                df_aux[\"DEC\"] = np.array(gamma)\n",
    "                df = pd.concat([df,df_aux],ignore_index=True)\n",
    "    \n",
    "    col[0].remove('GRADE')\n",
    "    df[col[0]] = df[col[0]].astype(float)\n",
    "    \n",
    "    return df\n",
    "\n",
    "dataset = parser(text)\n"
   ]
  },
  {
   "cell_type": "code",
   "execution_count": 417,
   "metadata": {},
   "outputs": [
    {
     "data": {
      "text/html": [
       "<div>\n",
       "<style scoped>\n",
       "    .dataframe tbody tr th:only-of-type {\n",
       "        vertical-align: middle;\n",
       "    }\n",
       "\n",
       "    .dataframe tbody tr th {\n",
       "        vertical-align: top;\n",
       "    }\n",
       "\n",
       "    .dataframe thead tr th {\n",
       "        text-align: left;\n",
       "    }\n",
       "</style>\n",
       "<table border=\"1\" class=\"dataframe\">\n",
       "  <thead>\n",
       "    <tr>\n",
       "      <th></th>\n",
       "      <th>HJD</th>\n",
       "      <th>MAG_2</th>\n",
       "      <th>MAG_0</th>\n",
       "      <th>MAG_1</th>\n",
       "      <th>MAG_3</th>\n",
       "      <th>MAG_4</th>\n",
       "      <th>MER_2</th>\n",
       "      <th>MER_0</th>\n",
       "      <th>MER_1</th>\n",
       "      <th>MER_3</th>\n",
       "      <th>MER_4</th>\n",
       "      <th>GRADE</th>\n",
       "      <th>FRAME</th>\n",
       "      <th>RA</th>\n",
       "      <th>DEC</th>\n",
       "    </tr>\n",
       "  </thead>\n",
       "  <tbody>\n",
       "    <tr>\n",
       "      <th>0</th>\n",
       "      <td>1884.75460</td>\n",
       "      <td>10.812</td>\n",
       "      <td>10.777</td>\n",
       "      <td>10.810</td>\n",
       "      <td>10.814</td>\n",
       "      <td>10.816</td>\n",
       "      <td>0.026</td>\n",
       "      <td>0.036</td>\n",
       "      <td>0.028</td>\n",
       "      <td>0.031</td>\n",
       "      <td>0.034</td>\n",
       "      <td>A</td>\n",
       "      <td>2314.0</td>\n",
       "      <td>9.220516  09:13:13.9</td>\n",
       "      <td>-51.300068 -51:18:00.2</td>\n",
       "    </tr>\n",
       "    <tr>\n",
       "      <th>1</th>\n",
       "      <td>1904.75905</td>\n",
       "      <td>10.916</td>\n",
       "      <td>10.892</td>\n",
       "      <td>10.919</td>\n",
       "      <td>10.916</td>\n",
       "      <td>10.917</td>\n",
       "      <td>0.025</td>\n",
       "      <td>0.035</td>\n",
       "      <td>0.028</td>\n",
       "      <td>0.030</td>\n",
       "      <td>0.034</td>\n",
       "      <td>A</td>\n",
       "      <td>3881.0</td>\n",
       "      <td>9.220516  09:13:13.9</td>\n",
       "      <td>-51.300068 -51:18:00.2</td>\n",
       "    </tr>\n",
       "    <tr>\n",
       "      <th>2</th>\n",
       "      <td>1906.73781</td>\n",
       "      <td>10.861</td>\n",
       "      <td>10.819</td>\n",
       "      <td>10.807</td>\n",
       "      <td>10.882</td>\n",
       "      <td>10.885</td>\n",
       "      <td>0.026</td>\n",
       "      <td>0.041</td>\n",
       "      <td>0.030</td>\n",
       "      <td>0.030</td>\n",
       "      <td>0.034</td>\n",
       "      <td>A</td>\n",
       "      <td>4196.0</td>\n",
       "      <td>9.220516  09:13:13.9</td>\n",
       "      <td>-51.300068 -51:18:00.2</td>\n",
       "    </tr>\n",
       "    <tr>\n",
       "      <th>3</th>\n",
       "      <td>1913.71115</td>\n",
       "      <td>10.849</td>\n",
       "      <td>10.832</td>\n",
       "      <td>10.850</td>\n",
       "      <td>10.865</td>\n",
       "      <td>10.858</td>\n",
       "      <td>0.023</td>\n",
       "      <td>0.027</td>\n",
       "      <td>0.024</td>\n",
       "      <td>0.028</td>\n",
       "      <td>0.030</td>\n",
       "      <td>A</td>\n",
       "      <td>4640.0</td>\n",
       "      <td>9.220516  09:13:13.9</td>\n",
       "      <td>-51.300068 -51:18:00.2</td>\n",
       "    </tr>\n",
       "    <tr>\n",
       "      <th>4</th>\n",
       "      <td>1914.72060</td>\n",
       "      <td>11.016</td>\n",
       "      <td>11.024</td>\n",
       "      <td>11.029</td>\n",
       "      <td>11.012</td>\n",
       "      <td>11.002</td>\n",
       "      <td>0.026</td>\n",
       "      <td>0.032</td>\n",
       "      <td>0.027</td>\n",
       "      <td>0.030</td>\n",
       "      <td>0.034</td>\n",
       "      <td>A</td>\n",
       "      <td>4806.0</td>\n",
       "      <td>9.220516  09:13:13.9</td>\n",
       "      <td>-51.300068 -51:18:00.2</td>\n",
       "    </tr>\n",
       "  </tbody>\n",
       "</table>\n",
       "</div>"
      ],
      "text/plain": [
       "          HJD   MAG_2   MAG_0   MAG_1   MAG_3   MAG_4  MER_2  MER_0  MER_1  \\\n",
       "0  1884.75460  10.812  10.777  10.810  10.814  10.816  0.026  0.036  0.028   \n",
       "1  1904.75905  10.916  10.892  10.919  10.916  10.917  0.025  0.035  0.028   \n",
       "2  1906.73781  10.861  10.819  10.807  10.882  10.885  0.026  0.041  0.030   \n",
       "3  1913.71115  10.849  10.832  10.850  10.865  10.858  0.023  0.027  0.024   \n",
       "4  1914.72060  11.016  11.024  11.029  11.012  11.002  0.026  0.032  0.027   \n",
       "\n",
       "   MER_3  MER_4 GRADE   FRAME                    RA                     DEC  \n",
       "0  0.031  0.034     A  2314.0  9.220516  09:13:13.9  -51.300068 -51:18:00.2  \n",
       "1  0.030  0.034     A  3881.0  9.220516  09:13:13.9  -51.300068 -51:18:00.2  \n",
       "2  0.030  0.034     A  4196.0  9.220516  09:13:13.9  -51.300068 -51:18:00.2  \n",
       "3  0.028  0.030     A  4640.0  9.220516  09:13:13.9  -51.300068 -51:18:00.2  \n",
       "4  0.030  0.034     A  4806.0  9.220516  09:13:13.9  -51.300068 -51:18:00.2  "
      ]
     },
     "execution_count": 417,
     "metadata": {},
     "output_type": "execute_result"
    }
   ],
   "source": [
    "dataset.head()"
   ]
  },
  {
   "cell_type": "code",
   "execution_count": 418,
   "metadata": {},
   "outputs": [
    {
     "data": {
      "text/html": [
       "<div>\n",
       "<style scoped>\n",
       "    .dataframe tbody tr th:only-of-type {\n",
       "        vertical-align: middle;\n",
       "    }\n",
       "\n",
       "    .dataframe tbody tr th {\n",
       "        vertical-align: top;\n",
       "    }\n",
       "\n",
       "    .dataframe thead tr th {\n",
       "        text-align: left;\n",
       "    }\n",
       "</style>\n",
       "<table border=\"1\" class=\"dataframe\">\n",
       "  <thead>\n",
       "    <tr>\n",
       "      <th></th>\n",
       "      <th>HJD</th>\n",
       "      <th>MAG_2</th>\n",
       "      <th>MAG_0</th>\n",
       "      <th>MAG_1</th>\n",
       "      <th>MAG_3</th>\n",
       "      <th>MAG_4</th>\n",
       "      <th>MER_2</th>\n",
       "      <th>MER_0</th>\n",
       "      <th>MER_1</th>\n",
       "      <th>MER_3</th>\n",
       "      <th>MER_4</th>\n",
       "      <th>FRAME</th>\n",
       "    </tr>\n",
       "  </thead>\n",
       "  <tbody>\n",
       "    <tr>\n",
       "      <th>count</th>\n",
       "      <td>934.000000</td>\n",
       "      <td>934.000000</td>\n",
       "      <td>934.000000</td>\n",
       "      <td>934.000000</td>\n",
       "      <td>934.000000</td>\n",
       "      <td>934.000000</td>\n",
       "      <td>934.000000</td>\n",
       "      <td>934.000000</td>\n",
       "      <td>934.000000</td>\n",
       "      <td>934.000000</td>\n",
       "      <td>934.000000</td>\n",
       "      <td>934.000000</td>\n",
       "    </tr>\n",
       "    <tr>\n",
       "      <th>mean</th>\n",
       "      <td>3020.884341</td>\n",
       "      <td>12.162067</td>\n",
       "      <td>11.963111</td>\n",
       "      <td>11.964116</td>\n",
       "      <td>12.168204</td>\n",
       "      <td>12.651451</td>\n",
       "      <td>0.032736</td>\n",
       "      <td>0.040213</td>\n",
       "      <td>0.034396</td>\n",
       "      <td>0.038006</td>\n",
       "      <td>0.042537</td>\n",
       "      <td>95186.724839</td>\n",
       "    </tr>\n",
       "    <tr>\n",
       "      <th>std</th>\n",
       "      <td>742.430653</td>\n",
       "      <td>10.478828</td>\n",
       "      <td>9.656779</td>\n",
       "      <td>9.656612</td>\n",
       "      <td>10.478086</td>\n",
       "      <td>12.283042</td>\n",
       "      <td>0.009546</td>\n",
       "      <td>0.012832</td>\n",
       "      <td>0.009083</td>\n",
       "      <td>0.011564</td>\n",
       "      <td>0.013543</td>\n",
       "      <td>74703.322634</td>\n",
       "    </tr>\n",
       "    <tr>\n",
       "      <th>min</th>\n",
       "      <td>1868.823430</td>\n",
       "      <td>10.743000</td>\n",
       "      <td>10.681000</td>\n",
       "      <td>10.736000</td>\n",
       "      <td>10.753000</td>\n",
       "      <td>10.757000</td>\n",
       "      <td>0.019000</td>\n",
       "      <td>0.022000</td>\n",
       "      <td>0.021000</td>\n",
       "      <td>0.023000</td>\n",
       "      <td>0.024000</td>\n",
       "      <td>162.000000</td>\n",
       "    </tr>\n",
       "    <tr>\n",
       "      <th>25%</th>\n",
       "      <td>2656.495225</td>\n",
       "      <td>10.839000</td>\n",
       "      <td>10.825000</td>\n",
       "      <td>10.830000</td>\n",
       "      <td>10.842250</td>\n",
       "      <td>10.848250</td>\n",
       "      <td>0.027000</td>\n",
       "      <td>0.031000</td>\n",
       "      <td>0.029000</td>\n",
       "      <td>0.031000</td>\n",
       "      <td>0.035000</td>\n",
       "      <td>38291.750000</td>\n",
       "    </tr>\n",
       "    <tr>\n",
       "      <th>50%</th>\n",
       "      <td>3001.284545</td>\n",
       "      <td>10.860000</td>\n",
       "      <td>10.856000</td>\n",
       "      <td>10.854000</td>\n",
       "      <td>10.867000</td>\n",
       "      <td>10.876000</td>\n",
       "      <td>0.031000</td>\n",
       "      <td>0.036000</td>\n",
       "      <td>0.032000</td>\n",
       "      <td>0.036000</td>\n",
       "      <td>0.040000</td>\n",
       "      <td>85978.000000</td>\n",
       "    </tr>\n",
       "    <tr>\n",
       "      <th>75%</th>\n",
       "      <td>3469.805073</td>\n",
       "      <td>10.901000</td>\n",
       "      <td>10.901750</td>\n",
       "      <td>10.894750</td>\n",
       "      <td>10.911000</td>\n",
       "      <td>10.919750</td>\n",
       "      <td>0.036000</td>\n",
       "      <td>0.046750</td>\n",
       "      <td>0.037750</td>\n",
       "      <td>0.041750</td>\n",
       "      <td>0.047000</td>\n",
       "      <td>138256.750000</td>\n",
       "    </tr>\n",
       "    <tr>\n",
       "      <th>max</th>\n",
       "      <td>4574.633190</td>\n",
       "      <td>99.999000</td>\n",
       "      <td>99.999000</td>\n",
       "      <td>99.999000</td>\n",
       "      <td>99.999000</td>\n",
       "      <td>99.999000</td>\n",
       "      <td>0.113000</td>\n",
       "      <td>0.098000</td>\n",
       "      <td>0.095000</td>\n",
       "      <td>0.142000</td>\n",
       "      <td>0.173000</td>\n",
       "      <td>265836.000000</td>\n",
       "    </tr>\n",
       "  </tbody>\n",
       "</table>\n",
       "</div>"
      ],
      "text/plain": [
       "               HJD       MAG_2       MAG_0       MAG_1       MAG_3  \\\n",
       "count   934.000000  934.000000  934.000000  934.000000  934.000000   \n",
       "mean   3020.884341   12.162067   11.963111   11.964116   12.168204   \n",
       "std     742.430653   10.478828    9.656779    9.656612   10.478086   \n",
       "min    1868.823430   10.743000   10.681000   10.736000   10.753000   \n",
       "25%    2656.495225   10.839000   10.825000   10.830000   10.842250   \n",
       "50%    3001.284545   10.860000   10.856000   10.854000   10.867000   \n",
       "75%    3469.805073   10.901000   10.901750   10.894750   10.911000   \n",
       "max    4574.633190   99.999000   99.999000   99.999000   99.999000   \n",
       "\n",
       "            MAG_4       MER_2       MER_0       MER_1       MER_3       MER_4  \\\n",
       "count  934.000000  934.000000  934.000000  934.000000  934.000000  934.000000   \n",
       "mean    12.651451    0.032736    0.040213    0.034396    0.038006    0.042537   \n",
       "std     12.283042    0.009546    0.012832    0.009083    0.011564    0.013543   \n",
       "min     10.757000    0.019000    0.022000    0.021000    0.023000    0.024000   \n",
       "25%     10.848250    0.027000    0.031000    0.029000    0.031000    0.035000   \n",
       "50%     10.876000    0.031000    0.036000    0.032000    0.036000    0.040000   \n",
       "75%     10.919750    0.036000    0.046750    0.037750    0.041750    0.047000   \n",
       "max     99.999000    0.113000    0.098000    0.095000    0.142000    0.173000   \n",
       "\n",
       "               FRAME  \n",
       "count     934.000000  \n",
       "mean    95186.724839  \n",
       "std     74703.322634  \n",
       "min       162.000000  \n",
       "25%     38291.750000  \n",
       "50%     85978.000000  \n",
       "75%    138256.750000  \n",
       "max    265836.000000  "
      ]
     },
     "execution_count": 418,
     "metadata": {},
     "output_type": "execute_result"
    }
   ],
   "source": [
    "dataset.describe()"
   ]
  },
  {
   "cell_type": "code",
   "execution_count": 419,
   "metadata": {},
   "outputs": [
    {
     "data": {
      "text/plain": [
       "934"
      ]
     },
     "execution_count": 419,
     "metadata": {},
     "output_type": "execute_result"
    }
   ],
   "source": [
    "len(dataset.index)"
   ]
  },
  {
   "cell_type": "markdown",
   "metadata": {},
   "source": [
    "### Manejo del dataset"
   ]
  },
  {
   "cell_type": "code",
   "execution_count": 420,
   "metadata": {
    "collapsed": true
   },
   "outputs": [],
   "source": [
    "def outliers_iqr(ys):\n",
    "    quartile_1, quartile_3 = np.percentile(ys, [25, 75])\n",
    "    iqr = quartile_3 - quartile_1\n",
    "    lower_bound = quartile_1 - (iqr*1.5)\n",
    "    upper_bound = quartile_3 + (iqr*1.5)\n",
    "    return np.where((ys > upper_bound) | (ys < lower_bound))"
   ]
  },
  {
   "cell_type": "code",
   "execution_count": 421,
   "metadata": {},
   "outputs": [
    {
     "data": {
      "text/plain": [
       "546"
      ]
     },
     "execution_count": 421,
     "metadata": {},
     "output_type": "execute_result"
    }
   ],
   "source": [
    "def select_data(dataset):\n",
    "    selected = pd.unique(dataset[\"RA\"].values.ravel())\n",
    "    return selected\n",
    "\n",
    "#Selecciona el sub-dataset con mas mediciones\n",
    "def sub_dataset(dataset):\n",
    "    length = []\n",
    "    s = select_data(dataset)\n",
    "    for i in s:\n",
    "        length.append(len(dataset.loc[dataset[dataset.RA==i].RA.notnull().values.ravel()]))\n",
    "    max_item_index = length.index(max(length))\n",
    "    return(dataset.loc[dataset[dataset.RA==s[max_item_index]].RA.notnull().values.ravel()])\n",
    "\n",
    "subdata = sub_dataset(dataset)        \n",
    "\n",
    "\n",
    "aux = subdata\n",
    "#aux = dataset\n",
    "len(aux.HJD.values)"
   ]
  },
  {
   "cell_type": "code",
   "execution_count": 422,
   "metadata": {},
   "outputs": [
    {
     "data": {
      "image/png": "[encoded data removed]",
      "text/plain": [
       "<matplotlib.figure.Figure at 0x7f06e44a74e0>"
      ]
     },
     "metadata": {},
     "output_type": "display_data"
    }
   ],
   "source": [
    "outliers_index = outliers_iqr(aux[\"MAG_2\"].values)\n",
    "values_aux = aux[\"MAG_2\"].drop(aux.index[outliers_index[0]])\n",
    "hjd_aux = aux[\"HJD\"].drop(aux.index[outliers_index[0]])\n",
    "\n",
    "plt.figure(figsize=(16,5))\n",
    "plt.gca().invert_yaxis()\n",
    "plt.scatter(hjd_aux.values,values_aux.values)\n",
    "plt.xlabel(\"HJD-2450000\", fontsize = 15)\n",
    "plt.ylabel(\"Magnitude\", fontsize = 15)\n",
    "plt.show()"
   ]
  },
  {
   "cell_type": "code",
   "execution_count": null,
   "metadata": {
    "collapsed": true
   },
   "outputs": [],
   "source": []
  },
  {
   "cell_type": "code",
   "execution_count": null,
   "metadata": {
    "collapsed": true
   },
   "outputs": [],
   "source": []
  }
 ],
 "metadata": {
  "kernelspec": {
   "display_name": "Python 3",
   "language": "python",
   "name": "python3"
  },
  "language_info": {
   "codemirror_mode": {
    "name": "ipython",
    "version": 3
   },
   "file_extension": ".py",
   "mimetype": "text/x-python",
   "name": "python",
   "nbconvert_exporter": "python",
   "pygments_lexer": "ipython3",
   "version": "3.6.3"
  }
 },
 "nbformat": 4,
 "nbformat_minor": 2
}
