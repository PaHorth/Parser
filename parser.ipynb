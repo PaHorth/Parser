{
 "cells": [
  {
   "cell_type": "code",
   "execution_count": 1,
   "metadata": {
    "collapsed": true
   },
   "outputs": [],
   "source": [
    "import numpy as np\n",
    "import pandas as pd\n",
    "import matplotlib.pyplot as plt\n",
    "import re\n",
    "from scipy.optimize import curve_fit"
   ]
  },
  {
   "cell_type": "code",
   "execution_count": 2,
   "metadata": {},
   "outputs": [
    {
     "data": {
      "text/plain": [
       "'005606-5810.0'"
      ]
     },
     "execution_count": 2,
     "metadata": {},
     "output_type": "execute_result"
    }
   ],
   "source": [
    "#En linux\n",
    "listado = open(\"/home/horthp/Documentos/asas_data/all_data/test\",\"r\")\n",
    "#En windows\n",
    "#listado = open(\"C:\\\\Users\\\\horth_000\\\\Desktop\\\\asas_data\\\\all_data\\\\test\",\"r\")\n",
    "files = listado.readlines()\n",
    "listado.close()\n",
    "files[533].strip(\"\\n\")"
   ]
  },
  {
   "cell_type": "code",
   "execution_count": 3,
   "metadata": {
    "collapsed": true
   },
   "outputs": [],
   "source": [
    "#En linux\n",
    "archivo = open(\"/home/horthp/Documentos/asas_data/all_data/\"+files[233].strip(\"\\n\"),\"r\")\n",
    "#archivo = open(\"/home/horthp/Documentos/asas_data/091830-2041.9.txt\",\"r\")\n",
    "#En windows\n",
    "#archivo = open(\"C:\\\\Users\\\\horth_000\\\\Desktop\\\\asas_data\\\\all_data\\\\\"+files[233].strip(\"\\n\"),\"r\")\n",
    "#133,233 tiene indices distintos"
   ]
  },
  {
   "cell_type": "code",
   "execution_count": 4,
   "metadata": {
    "collapsed": true
   },
   "outputs": [],
   "source": [
    "text = archivo.readlines()\n",
    "archivo.close()"
   ]
  },
  {
   "cell_type": "markdown",
   "metadata": {},
   "source": [
    "### Funciones necesarias para ordenar la data"
   ]
  },
  {
   "cell_type": "code",
   "execution_count": 5,
   "metadata": {
    "collapsed": true,
    "scrolled": false
   },
   "outputs": [],
   "source": [
    "def cut(c):\n",
    "    flag = True\n",
    "    data = []\n",
    "    head = []\n",
    "    patron = re.compile(\"\\s+\")\n",
    "    for i in c:\n",
    "        if flag == True:\n",
    "            head.append(patron.split(i))\n",
    "            flag = False\n",
    "        else:\n",
    "            data.append(patron.split(i))\n",
    "    return np.array(data),head"
   ]
  },
  {
   "cell_type": "code",
   "execution_count": 10,
   "metadata": {
    "collapsed": true
   },
   "outputs": [],
   "source": [
    "def parser(data):\n",
    "    c = []\n",
    "    alpha = []\n",
    "    gamma = []\n",
    "    flag = 0\n",
    "    for i in range(len(data)):\n",
    "        head = re.findall(\"\\A#\\s+(.+)\",data[i])\n",
    "        new_line = re.findall(\"\\A   (.+)\",data[i]) \n",
    "        ra = re.findall(\"\\#ra=\\s+(.+)\",data[i])\n",
    "        dec = re.findall(\"\\#dec=\\s+(.+)\",data[i])\n",
    "        #ndataset = re.findall(\"\\#dataset=(.+)\",linea)\n",
    "        if ra:\n",
    "            ra_aux = ra\n",
    "        if dec:\n",
    "            dec_aux = dec\n",
    "        if head:\n",
    "            [c.append(j) for j in head]\n",
    "        if new_line:\n",
    "            [c.append(k) for k in new_line]\n",
    "            alpha.append(ra_aux)\n",
    "            gamma.append(dec_aux)\n",
    "            try:\n",
    "                next_line = re.findall(\"\\A   (.+)\",data[i+1])\n",
    "                if not next_line:\n",
    "                    reg, col= cut(c)\n",
    "                    if flag == 0:\n",
    "                        #df = pd.DataFrame(cc[1:][:],columns=cc[0])\n",
    "                        df = pd.DataFrame(reg,columns=col)\n",
    "                        df[\"RA\"] = np.array(alpha)\n",
    "                        df[\"DEC\"] = np.array(gamma)\n",
    "                        c = []\n",
    "                        alpha = []\n",
    "                        gamma = []\n",
    "                        flag += 1                    \n",
    "                    else:\n",
    "                        #df_aux = pd.DataFrame(cc[1:][:],columns=cc[0])\n",
    "                        df_aux = pd.DataFrame(reg,columns=col)\n",
    "                        df_aux[\"RA\"] = np.array(alpha)\n",
    "                        df_aux[\"DEC\"] = np.array(gamma)\n",
    "                        df = pd.concat([df,df_aux],ignore_index=True)\n",
    "                        c = []\n",
    "                        alpha = []\n",
    "                        gamma = []\n",
    "            except:\n",
    "                reg, col = cut(c)\n",
    "                #df_aux = pd.DataFrame(cc[1:][:],columns=cc[0])\n",
    "                df_aux = pd.DataFrame(reg,columns=col)\n",
    "                df_aux[\"RA\"] = np.array(alpha)\n",
    "                df_aux[\"DEC\"] = np.array(gamma)\n",
    "                df = pd.concat([df,df_aux],ignore_index=True)\n",
    "    \n",
    "    col[0].remove('GRADE')\n",
    "    df[col[0]] = df[col[0]].astype(float)\n",
    "    \n",
    "    return df\n",
    "\n",
    "dataset = parser(text)\n"
   ]
  },
  {
   "cell_type": "code",
   "execution_count": 7,
   "metadata": {},
   "outputs": [
    {
     "data": {
      "text/html": [
       "<div>\n",
       "<style scoped>\n",
       "    .dataframe tbody tr th:only-of-type {\n",
       "        vertical-align: middle;\n",
       "    }\n",
       "\n",
       "    .dataframe tbody tr th {\n",
       "        vertical-align: top;\n",
       "    }\n",
       "\n",
       "    .dataframe thead tr th {\n",
       "        text-align: left;\n",
       "    }\n",
       "</style>\n",
       "<table border=\"1\" class=\"dataframe\">\n",
       "  <thead>\n",
       "    <tr>\n",
       "      <th></th>\n",
       "      <th>DEC</th>\n",
       "      <th>FRAME</th>\n",
       "      <th>GRADE</th>\n",
       "      <th>HJD</th>\n",
       "      <th>MAG_0</th>\n",
       "      <th>MAG_1</th>\n",
       "      <th>MAG_2</th>\n",
       "      <th>MAG_3</th>\n",
       "      <th>MAG_4</th>\n",
       "      <th>MER_0</th>\n",
       "      <th>MER_1</th>\n",
       "      <th>MER_2</th>\n",
       "      <th>MER_3</th>\n",
       "      <th>MER_4</th>\n",
       "      <th>RA</th>\n",
       "    </tr>\n",
       "  </thead>\n",
       "  <tbody>\n",
       "    <tr>\n",
       "      <th>0</th>\n",
       "      <td>-75.973090 -75:58:23.1</td>\n",
       "      <td>194.0</td>\n",
       "      <td>B</td>\n",
       "      <td>1869.52260</td>\n",
       "      <td>11.682</td>\n",
       "      <td>11.657</td>\n",
       "      <td>11.602</td>\n",
       "      <td>11.501</td>\n",
       "      <td>11.411</td>\n",
       "      <td>0.065</td>\n",
       "      <td>0.033</td>\n",
       "      <td>0.028</td>\n",
       "      <td>0.030</td>\n",
       "      <td>0.031</td>\n",
       "      <td>0.404214  00:24:15.2</td>\n",
       "    </tr>\n",
       "    <tr>\n",
       "      <th>1</th>\n",
       "      <td>-75.973090 -75:58:23.1</td>\n",
       "      <td>504.0</td>\n",
       "      <td>A</td>\n",
       "      <td>1871.59815</td>\n",
       "      <td>11.648</td>\n",
       "      <td>11.621</td>\n",
       "      <td>11.570</td>\n",
       "      <td>11.467</td>\n",
       "      <td>11.372</td>\n",
       "      <td>0.042</td>\n",
       "      <td>0.026</td>\n",
       "      <td>0.024</td>\n",
       "      <td>0.026</td>\n",
       "      <td>0.028</td>\n",
       "      <td>0.404214  00:24:15.2</td>\n",
       "    </tr>\n",
       "    <tr>\n",
       "      <th>2</th>\n",
       "      <td>-75.973090 -75:58:23.1</td>\n",
       "      <td>819.0</td>\n",
       "      <td>A</td>\n",
       "      <td>1873.57977</td>\n",
       "      <td>11.709</td>\n",
       "      <td>11.638</td>\n",
       "      <td>11.563</td>\n",
       "      <td>11.468</td>\n",
       "      <td>11.376</td>\n",
       "      <td>0.059</td>\n",
       "      <td>0.027</td>\n",
       "      <td>0.023</td>\n",
       "      <td>0.026</td>\n",
       "      <td>0.029</td>\n",
       "      <td>0.404214  00:24:15.2</td>\n",
       "    </tr>\n",
       "    <tr>\n",
       "      <th>3</th>\n",
       "      <td>-75.973090 -75:58:23.1</td>\n",
       "      <td>1135.0</td>\n",
       "      <td>B</td>\n",
       "      <td>1875.56527</td>\n",
       "      <td>11.649</td>\n",
       "      <td>11.646</td>\n",
       "      <td>11.591</td>\n",
       "      <td>11.489</td>\n",
       "      <td>11.416</td>\n",
       "      <td>0.064</td>\n",
       "      <td>0.030</td>\n",
       "      <td>0.026</td>\n",
       "      <td>0.028</td>\n",
       "      <td>0.030</td>\n",
       "      <td>0.404214  00:24:15.2</td>\n",
       "    </tr>\n",
       "    <tr>\n",
       "      <th>4</th>\n",
       "      <td>-75.973090 -75:58:23.1</td>\n",
       "      <td>1766.0</td>\n",
       "      <td>A</td>\n",
       "      <td>1879.55609</td>\n",
       "      <td>11.865</td>\n",
       "      <td>11.806</td>\n",
       "      <td>11.761</td>\n",
       "      <td>11.686</td>\n",
       "      <td>11.594</td>\n",
       "      <td>0.055</td>\n",
       "      <td>0.030</td>\n",
       "      <td>0.026</td>\n",
       "      <td>0.027</td>\n",
       "      <td>0.029</td>\n",
       "      <td>0.404214  00:24:15.2</td>\n",
       "    </tr>\n",
       "  </tbody>\n",
       "</table>\n",
       "</div>"
      ],
      "text/plain": [
       "                      DEC   FRAME GRADE         HJD   MAG_0   MAG_1   MAG_2  \\\n",
       "0  -75.973090 -75:58:23.1   194.0     B  1869.52260  11.682  11.657  11.602   \n",
       "1  -75.973090 -75:58:23.1   504.0     A  1871.59815  11.648  11.621  11.570   \n",
       "2  -75.973090 -75:58:23.1   819.0     A  1873.57977  11.709  11.638  11.563   \n",
       "3  -75.973090 -75:58:23.1  1135.0     B  1875.56527  11.649  11.646  11.591   \n",
       "4  -75.973090 -75:58:23.1  1766.0     A  1879.55609  11.865  11.806  11.761   \n",
       "\n",
       "    MAG_3   MAG_4  MER_0  MER_1  MER_2  MER_3  MER_4                    RA  \n",
       "0  11.501  11.411  0.065  0.033  0.028  0.030  0.031  0.404214  00:24:15.2  \n",
       "1  11.467  11.372  0.042  0.026  0.024  0.026  0.028  0.404214  00:24:15.2  \n",
       "2  11.468  11.376  0.059  0.027  0.023  0.026  0.029  0.404214  00:24:15.2  \n",
       "3  11.489  11.416  0.064  0.030  0.026  0.028  0.030  0.404214  00:24:15.2  \n",
       "4  11.686  11.594  0.055  0.030  0.026  0.027  0.029  0.404214  00:24:15.2  "
      ]
     },
     "execution_count": 7,
     "metadata": {},
     "output_type": "execute_result"
    }
   ],
   "source": [
    "dataset.head()"
   ]
  },
  {
   "cell_type": "code",
   "execution_count": 9,
   "metadata": {},
   "outputs": [
    {
     "data": {
      "text/html": [
       "<div>\n",
       "<style scoped>\n",
       "    .dataframe tbody tr th:only-of-type {\n",
       "        vertical-align: middle;\n",
       "    }\n",
       "\n",
       "    .dataframe tbody tr th {\n",
       "        vertical-align: top;\n",
       "    }\n",
       "\n",
       "    .dataframe thead tr th {\n",
       "        text-align: left;\n",
       "    }\n",
       "</style>\n",
       "<table border=\"1\" class=\"dataframe\">\n",
       "  <thead>\n",
       "    <tr>\n",
       "      <th></th>\n",
       "      <th>FRAME</th>\n",
       "      <th>HJD</th>\n",
       "      <th>MAG_0</th>\n",
       "      <th>MAG_1</th>\n",
       "      <th>MAG_2</th>\n",
       "      <th>MAG_3</th>\n",
       "      <th>MAG_4</th>\n",
       "      <th>MER_0</th>\n",
       "      <th>MER_1</th>\n",
       "      <th>MER_2</th>\n",
       "      <th>MER_3</th>\n",
       "      <th>MER_4</th>\n",
       "    </tr>\n",
       "  </thead>\n",
       "  <tbody>\n",
       "    <tr>\n",
       "      <th>count</th>\n",
       "      <td>1346.000000</td>\n",
       "      <td>1346.000000</td>\n",
       "      <td>1346.000000</td>\n",
       "      <td>1346.000000</td>\n",
       "      <td>1346.000000</td>\n",
       "      <td>1346.000000</td>\n",
       "      <td>1346.000000</td>\n",
       "      <td>1346.000000</td>\n",
       "      <td>1346.000000</td>\n",
       "      <td>1346.000000</td>\n",
       "      <td>1346.000000</td>\n",
       "      <td>1346.000000</td>\n",
       "    </tr>\n",
       "    <tr>\n",
       "      <th>mean</th>\n",
       "      <td>139573.584695</td>\n",
       "      <td>3419.888581</td>\n",
       "      <td>13.673749</td>\n",
       "      <td>13.610233</td>\n",
       "      <td>13.881942</td>\n",
       "      <td>13.748335</td>\n",
       "      <td>13.877791</td>\n",
       "      <td>0.049279</td>\n",
       "      <td>0.039434</td>\n",
       "      <td>0.036401</td>\n",
       "      <td>0.040619</td>\n",
       "      <td>0.045114</td>\n",
       "    </tr>\n",
       "    <tr>\n",
       "      <th>std</th>\n",
       "      <td>66568.720157</td>\n",
       "      <td>669.821551</td>\n",
       "      <td>8.777620</td>\n",
       "      <td>8.787108</td>\n",
       "      <td>10.524003</td>\n",
       "      <td>10.546055</td>\n",
       "      <td>11.566919</td>\n",
       "      <td>0.013081</td>\n",
       "      <td>0.009450</td>\n",
       "      <td>0.010731</td>\n",
       "      <td>0.012848</td>\n",
       "      <td>0.015257</td>\n",
       "    </tr>\n",
       "    <tr>\n",
       "      <th>min</th>\n",
       "      <td>194.000000</td>\n",
       "      <td>1869.522600</td>\n",
       "      <td>11.635000</td>\n",
       "      <td>11.604000</td>\n",
       "      <td>11.539000</td>\n",
       "      <td>11.366000</td>\n",
       "      <td>11.001000</td>\n",
       "      <td>0.027000</td>\n",
       "      <td>0.023000</td>\n",
       "      <td>0.020000</td>\n",
       "      <td>0.022000</td>\n",
       "      <td>0.021000</td>\n",
       "    </tr>\n",
       "    <tr>\n",
       "      <th>25%</th>\n",
       "      <td>107938.500000</td>\n",
       "      <td>3185.640142</td>\n",
       "      <td>12.158000</td>\n",
       "      <td>12.091750</td>\n",
       "      <td>11.971000</td>\n",
       "      <td>11.837250</td>\n",
       "      <td>11.729250</td>\n",
       "      <td>0.040000</td>\n",
       "      <td>0.034000</td>\n",
       "      <td>0.031000</td>\n",
       "      <td>0.034000</td>\n",
       "      <td>0.038000</td>\n",
       "    </tr>\n",
       "    <tr>\n",
       "      <th>50%</th>\n",
       "      <td>156332.500000</td>\n",
       "      <td>3607.779685</td>\n",
       "      <td>12.363000</td>\n",
       "      <td>12.293000</td>\n",
       "      <td>12.162500</td>\n",
       "      <td>12.016000</td>\n",
       "      <td>11.868500</td>\n",
       "      <td>0.047000</td>\n",
       "      <td>0.038000</td>\n",
       "      <td>0.034000</td>\n",
       "      <td>0.038000</td>\n",
       "      <td>0.042000</td>\n",
       "    </tr>\n",
       "    <tr>\n",
       "      <th>75%</th>\n",
       "      <td>156946.750000</td>\n",
       "      <td>3615.767102</td>\n",
       "      <td>12.528000</td>\n",
       "      <td>12.450750</td>\n",
       "      <td>12.313000</td>\n",
       "      <td>12.159000</td>\n",
       "      <td>11.995750</td>\n",
       "      <td>0.055000</td>\n",
       "      <td>0.042000</td>\n",
       "      <td>0.039000</td>\n",
       "      <td>0.043000</td>\n",
       "      <td>0.047000</td>\n",
       "    </tr>\n",
       "    <tr>\n",
       "      <th>max</th>\n",
       "      <td>265607.000000</td>\n",
       "      <td>4572.921320</td>\n",
       "      <td>99.999000</td>\n",
       "      <td>99.999000</td>\n",
       "      <td>99.999000</td>\n",
       "      <td>99.999000</td>\n",
       "      <td>99.999000</td>\n",
       "      <td>0.186000</td>\n",
       "      <td>0.094000</td>\n",
       "      <td>0.109000</td>\n",
       "      <td>0.135000</td>\n",
       "      <td>0.170000</td>\n",
       "    </tr>\n",
       "  </tbody>\n",
       "</table>\n",
       "</div>"
      ],
      "text/plain": [
       "               FRAME          HJD        MAG_0        MAG_1        MAG_2  \\\n",
       "count    1346.000000  1346.000000  1346.000000  1346.000000  1346.000000   \n",
       "mean   139573.584695  3419.888581    13.673749    13.610233    13.881942   \n",
       "std     66568.720157   669.821551     8.777620     8.787108    10.524003   \n",
       "min       194.000000  1869.522600    11.635000    11.604000    11.539000   \n",
       "25%    107938.500000  3185.640142    12.158000    12.091750    11.971000   \n",
       "50%    156332.500000  3607.779685    12.363000    12.293000    12.162500   \n",
       "75%    156946.750000  3615.767102    12.528000    12.450750    12.313000   \n",
       "max    265607.000000  4572.921320    99.999000    99.999000    99.999000   \n",
       "\n",
       "             MAG_3        MAG_4        MER_0        MER_1        MER_2  \\\n",
       "count  1346.000000  1346.000000  1346.000000  1346.000000  1346.000000   \n",
       "mean     13.748335    13.877791     0.049279     0.039434     0.036401   \n",
       "std      10.546055    11.566919     0.013081     0.009450     0.010731   \n",
       "min      11.366000    11.001000     0.027000     0.023000     0.020000   \n",
       "25%      11.837250    11.729250     0.040000     0.034000     0.031000   \n",
       "50%      12.016000    11.868500     0.047000     0.038000     0.034000   \n",
       "75%      12.159000    11.995750     0.055000     0.042000     0.039000   \n",
       "max      99.999000    99.999000     0.186000     0.094000     0.109000   \n",
       "\n",
       "             MER_3        MER_4  \n",
       "count  1346.000000  1346.000000  \n",
       "mean      0.040619     0.045114  \n",
       "std       0.012848     0.015257  \n",
       "min       0.022000     0.021000  \n",
       "25%       0.034000     0.038000  \n",
       "50%       0.038000     0.042000  \n",
       "75%       0.043000     0.047000  \n",
       "max       0.135000     0.170000  "
      ]
     },
     "execution_count": 9,
     "metadata": {},
     "output_type": "execute_result"
    }
   ],
   "source": [
    "dataset.describe()"
   ]
  },
  {
   "cell_type": "code",
   "execution_count": 66,
   "metadata": {},
   "outputs": [
    {
     "data": {
      "text/plain": [
       "1346"
      ]
     },
     "execution_count": 66,
     "metadata": {},
     "output_type": "execute_result"
    }
   ],
   "source": [
    "len(dataset.index)"
   ]
  },
  {
   "cell_type": "markdown",
   "metadata": {},
   "source": [
    "### Manejo del dataset"
   ]
  },
  {
   "cell_type": "code",
   "execution_count": 67,
   "metadata": {
    "collapsed": true
   },
   "outputs": [],
   "source": [
    "def outliers_iqr(ys):\n",
    "    quartile_1, quartile_3 = np.percentile(ys, [25, 75])\n",
    "    iqr = quartile_3 - quartile_1\n",
    "    lower_bound = quartile_1 - (iqr*1.5)\n",
    "    upper_bound = quartile_3 + (iqr*1.5)\n",
    "    #print(iqr)\n",
    "    #index_up = np.where(ys > upper_bound)\n",
    "    #index_low = np.where(ys < lower_bound)\n",
    "    #return index_up, index_low\n",
    "    return np.where((ys > upper_bound) | (ys < lower_bound))"
   ]
  },
  {
   "cell_type": "code",
   "execution_count": 68,
   "metadata": {
    "collapsed": true
   },
   "outputs": [],
   "source": [
    "outliers_index = outliers_iqr(dataset[\"MAG_2\"].values)\n",
    "#print(\"outlier\",outliers_index[0])"
   ]
  },
  {
   "cell_type": "code",
   "execution_count": 70,
   "metadata": {},
   "outputs": [
    {
     "data": {
      "text/plain": [
       "1346"
      ]
     },
     "execution_count": 70,
     "metadata": {},
     "output_type": "execute_result"
    }
   ],
   "source": [
    "def select_data(dataset):\n",
    "    select = pd.unique(dataset[\"RA\"].values.ravel())\n",
    "    return select\n",
    "\n",
    "def sub_dataset(dataset):\n",
    "    length = []\n",
    "    s = select_data(dataset)\n",
    "    for i in s:\n",
    "        length.append(len(dataset.loc[dataset[dataset.RA==i].RA.notnull().values.ravel()]))\n",
    "    #print(length)\n",
    "    #print(length.index(max(length)))\n",
    "    max_item_index = length.index(max(length))\n",
    "    return(dataset.loc[dataset[dataset.RA==s[max_item_index]].RA.notnull().values.ravel()])\n",
    "\n",
    "subdata = sub_dataset(dataset)        \n",
    "#a = dataset[dataset.RA==select[3]]\n",
    "#aux = dataset.loc[(a.RA.notnull()).values.ravel()]\n",
    "\n",
    "#aux = subdata\n",
    "aux = dataset\n",
    "len(aux.HJD.values)"
   ]
  },
  {
   "cell_type": "code",
   "execution_count": 71,
   "metadata": {},
   "outputs": [
    {
     "data": {
      "image/png": "[encoded data removed]",
      "text/plain": [
       "<matplotlib.figure.Figure at 0x7fee3ed42be0>"
      ]
     },
     "metadata": {},
     "output_type": "display_data"
    }
   ],
   "source": [
    "outliers_index = outliers_iqr(aux[\"MAG_3\"].values)\n",
    "values_aux = aux[\"MAG_3\"].drop(aux.index[outliers_index[0]])\n",
    "hjd_aux = aux[\"HJD\"].drop(aux.index[outliers_index[0]])\n",
    "plt.figure(figsize=(16,5))\n",
    "plt.gca().invert_yaxis()\n",
    "plt.scatter(hjd_aux.values,values_aux.values)\n",
    "plt.show()"
   ]
  },
  {
   "cell_type": "markdown",
   "metadata": {},
   "source": [
    "# Análisis de Series de tiempo"
   ]
  },
  {
   "cell_type": "markdown",
   "metadata": {
    "collapsed": true
   },
   "source": [
    "# Una serie de tiempo es una coleccion de datos reunidos a través del tiempo, y consta de cuatro componentes escenciales los cuales son:\n",
    "\n",
    "* **Tendencia: ** Se puede definir como un cambio a largo plazo que se produce en la relación al nivel medio, o el cambio a largo plazo de la media. La tendencia se identifica con un movimiento suave de la serie a largo plazo.\n",
    "* **Estacionalidad: ** Patron que se repite en periodos de tiempo cortos.\n",
    "* **Fluctuacion ciclica: ** Con frecuencia las series de tiempo presentan secuencias alternas de puntos abajo y arriba de la línea de tendencia.\n",
    "* **Aleatoriedad:** Esta componente no responde a ningún patrón de comportamiento, sino que es el resultado de factores fortuitos o aleatorios que inciden de forma aislada en una serie de tiempo.\n"
   ]
  },
  {
   "cell_type": "code",
   "execution_count": 72,
   "metadata": {
    "collapsed": true
   },
   "outputs": [],
   "source": [
    "y = values_aux.values.ravel()\n",
    "x = hjd_aux.values.ravel()"
   ]
  },
  {
   "cell_type": "code",
   "execution_count": 73,
   "metadata": {},
   "outputs": [
    {
     "name": "stdout",
     "output_type": "stream",
     "text": [
      "maximo valor de HJD: 4572.92132\n",
      "minimo valor de HJD: 1869.5226\n",
      "Rango: 2703.39872\n",
      "Rango/365: 7.40657183562\n",
      "Largo del arreglo de magnitudes: 1282\n",
      "lenY/r: 173.089524878\n",
      "redondeo: 173.0\n"
     ]
    },
    {
     "data": {
      "image/png": "[encoded data removed]",
      "text/plain": [
       "<matplotlib.figure.Figure at 0x7fee3ec911d0>"
      ]
     },
     "metadata": {},
     "output_type": "display_data"
    }
   ],
   "source": [
    "r = (max(x)- min(x))/365\n",
    "l = len(y)/r\n",
    "app =  np.rint(l)\n",
    "print(\"maximo valor de HJD:\",max(x))\n",
    "print(\"minimo valor de HJD:\",min(x))\n",
    "print(\"Rango:\", (max(x)- min(x)))\n",
    "print(\"Rango/365:\",r)\n",
    "print(\"Largo del arreglo de magnitudes:\",len(y))\n",
    "print(\"lenY/r:\",l)\n",
    "print(\"redondeo:\",app)\n",
    "\n",
    "#print(len(y)/app)\n",
    "k=1\n",
    "m = []\n",
    "prom = []\n",
    "var = []\n",
    "for i in range(len(y)):\n",
    "    m.append(y[i])\n",
    "    if i == app*k:\n",
    "        m2 = np.array(m)\n",
    "        prom.append(np.mean(m2))\n",
    "        var.append(np.var(m2))\n",
    "        k+=1\n",
    "        m = []\n",
    "\n",
    "#plt.plot(prom)\n",
    "plt.plot(var)\n",
    "plt.show()"
   ]
  },
  {
   "cell_type": "code",
   "execution_count": 74,
   "metadata": {},
   "outputs": [
    {
     "data": {
      "image/png": "[encoded data removed]",
      "text/plain": [
       "<matplotlib.figure.Figure at 0x7fee576126d8>"
      ]
     },
     "metadata": {},
     "output_type": "display_data"
    },
    {
     "name": "stdout",
     "output_type": "stream",
     "text": [
      "Vector error [  8.92784892e-06   3.11236569e-02]\n",
      "Coeficientes estimados [  1.34073751e-04   1.16627175e+01]\n",
      "Razon: [  15.01747537  374.72195269]\n",
      "MSE: 0.0456666604379\n"
     ]
    }
   ],
   "source": [
    "from scipy.optimize import curve_fit\n",
    "from sklearn.metrics import mean_squared_error\n",
    "\n",
    "y = aux[\"MAG_2\"].drop(aux.index[outliers_index[0]]).values.ravel()\n",
    "t = aux[\"HJD\"].drop(aux.index[outliers_index[0]]).values.ravel()\n",
    "\n",
    "def lineal_fit(t,a,b):\n",
    "    m = a*t + b\n",
    "    return m\n",
    "\n",
    "popt, pcov = curve_fit(lineal_fit, t, y)\n",
    "perr = np.sqrt(np.diag(pcov))\n",
    "plt.figure(figsize=(16,5))\n",
    "plt.gca().invert_yaxis()\n",
    "plt.scatter(t,y)\n",
    "plt.plot(t,lineal_fit(t,*popt), 'ro', label='fit')\n",
    "plt.show()\n",
    "\n",
    "y_hat = lineal_fit(t,*popt)\n",
    "mse =  mean_squared_error(y, y_hat)\n",
    "print(\"Vector error\",perr)\n",
    "print(\"Coeficientes estimados\",popt)\n",
    "print(\"Razon:\",np.abs(popt/perr))\n",
    "print(\"MSE:\",mse)"
   ]
  },
  {
   "cell_type": "code",
   "execution_count": 75,
   "metadata": {},
   "outputs": [
    {
     "data": {
      "image/png": "[encoded data removed]",
      "text/plain": [
       "<matplotlib.figure.Figure at 0x7fee576027b8>"
      ]
     },
     "metadata": {},
     "output_type": "display_data"
    },
    {
     "name": "stdout",
     "output_type": "stream",
     "text": [
      "Vector error [  1.16227365e-01   7.50309064e-05   1.17531582e-08]\n",
      "Coeficientes estimados [  1.10140809e+01   5.65251969e-04  -6.80127684e-08]\n",
      "Razon: [ 94.76323278   7.53358845   5.78676534]\n",
      "MSE: 0.0445015258999\n"
     ]
    }
   ],
   "source": [
    "def parabolic_fit(t,c,b,a):\n",
    "    m = c+b*t+a*t**2\n",
    "    return m\n",
    "\n",
    "popt, pcov = curve_fit(parabolic_fit, t, y)\n",
    "perr = np.sqrt(np.diag(pcov))\n",
    "plt.figure(figsize=(16,5))\n",
    "plt.gca().invert_yaxis()\n",
    "plt.scatter(t,y)\n",
    "plt.plot(t,parabolic_fit(t,*popt),'ro', label='fit')\n",
    "plt.show()\n",
    "\n",
    "y_hat = parabolic_fit(t,*popt)\n",
    "mse =  mean_squared_error(y, y_hat)\n",
    "print(\"Vector error\",perr)\n",
    "print(\"Coeficientes estimados\",popt)\n",
    "print(\"Razon:\",np.abs(popt/perr))\n",
    "print(\"MSE:\",mse)"
   ]
  },
  {
   "cell_type": "code",
   "execution_count": 76,
   "metadata": {},
   "outputs": [
    {
     "data": {
      "image/png": "[encoded data removed]",
      "text/plain": [
       "<matplotlib.figure.Figure at 0x7fee44107390>"
      ]
     },
     "metadata": {},
     "output_type": "display_data"
    },
    {
     "name": "stdout",
     "output_type": "stream",
     "text": [
      "Vector error [  6.91923086e-01   6.70795085e-04   2.07840346e-07   2.07878639e-11]\n",
      "Coeficientes estimados [  1.26005374e+01  -9.85096471e-04   4.14602068e-07  -4.83474737e-11]\n",
      "Razon: [ 18.21089321   1.46855052   1.99481032   2.32575477]\n",
      "MSE: 0.0443139662435\n"
     ]
    }
   ],
   "source": [
    "def otro_fit(t,d,c,b,a):\n",
    "    m = t**3*a+b*t**2+c*t+d\n",
    "    return m\n",
    "\n",
    "popt, pcov = curve_fit(otro_fit, t, y)\n",
    "perr = np.sqrt(np.diag(pcov))\n",
    "plt.figure(figsize=(16,5))\n",
    "plt.gca().invert_yaxis()\n",
    "plt.scatter(t,y)\n",
    "plt.plot(t,otro_fit(t,*popt),'ro', label='fit')\n",
    "plt.show()\n",
    "\n",
    "y_hat = otro_fit(t,*popt)\n",
    "mse =  mean_squared_error(y, y_hat)\n",
    "print(\"Vector error\",perr)\n",
    "print(\"Coeficientes estimados\",popt)\n",
    "print(\"Razon:\",np.abs(popt/perr))\n",
    "print(\"MSE:\",mse)"
   ]
  },
  {
   "cell_type": "code",
   "execution_count": null,
   "metadata": {
    "collapsed": true
   },
   "outputs": [],
   "source": []
  },
  {
   "cell_type": "code",
   "execution_count": null,
   "metadata": {
    "collapsed": true
   },
   "outputs": [],
   "source": []
  },
  {
   "cell_type": "code",
   "execution_count": null,
   "metadata": {
    "collapsed": true
   },
   "outputs": [],
   "source": []
  }
 ],
 "metadata": {
  "kernelspec": {
   "display_name": "Python 3",
   "language": "python",
   "name": "python3"
  },
  "language_info": {
   "codemirror_mode": {
    "name": "ipython",
    "version": 3
   },
   "file_extension": ".py",
   "mimetype": "text/x-python",
   "name": "python",
   "nbconvert_exporter": "python",
   "pygments_lexer": "ipython3",
   "version": "3.6.3"
  }
 },
 "nbformat": 4,
 "nbformat_minor": 2
}
